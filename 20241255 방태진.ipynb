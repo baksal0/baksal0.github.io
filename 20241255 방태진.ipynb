{
 "cells": [
  {
   "cell_type": "markdown",
   "id": "3d255ed2-1d87-4c52-9c37-373dc8b82ff4",
   "metadata": {},
   "source": [
    "# 기말 과제"
   ]
  },
  {
   "cell_type": "markdown",
   "id": "b6350290-24ab-4b17-86ab-24ba7a30b603",
   "metadata": {},
   "source": [
    "- 동일한 실행 결과가 나오도록 빈 칸에 정답 코드를 작성하세요.( \"코드 작성\" 이라는 주석 부분 영역에 정답 코드를 채워넣으면 됩니다 )\n",
    "- 노트북 파일을 완성 후, 압축하여 eclass에 과제로 제출하면 됩니다.\n",
    "- 제출 시 압축 파일 형태(zip)로 제출하며, 학번과 이름을 기입하여 제출하세요 (20241234_김거프.zip)"
   ]
  },
  {
   "cell_type": "markdown",
   "id": "9021d4cb-be58-41ab-b89e-86250e789458",
   "metadata": {},
   "source": [
    "-----"
   ]
  },
  {
   "cell_type": "markdown",
   "id": "2725e733-3a83-4362-bb9c-fc1fc9220dc5",
   "metadata": {},
   "source": [
    "### **Import Library**"
   ]
  },
  {
   "cell_type": "code",
   "execution_count": 20,
   "id": "8662242c-d65d-4cb4-9326-23b7b79ece5d",
   "metadata": {},
   "outputs": [],
   "source": [
    "import numpy as np\n",
    "import pandas as pd"
   ]
  },
  {
   "cell_type": "markdown",
   "id": "22c83aa2-4646-4580-a349-5318d6dfa21c",
   "metadata": {},
   "source": [
    "-----"
   ]
  },
  {
   "cell_type": "markdown",
   "id": "9337072a-e5af-4d32-b927-e8593a16a5db",
   "metadata": {},
   "source": [
    "### **과제 1. Numpy 실습 : ndarray 데이터 생성하기**"
   ]
  },
  {
   "cell_type": "markdown",
   "id": "8cfb68d3-5974-48c9-a35d-e96e074e0d14",
   "metadata": {},
   "source": [
    "##### **문제 1 : 0이상 20 미만의 정수 중 0부터 2 간격으로 값을 생성**"
   ]
  },
  {
   "cell_type": "code",
   "execution_count": null,
   "id": "704e898a-ebd1-4964-a5ec-599b169745e8",
   "metadata": {},
   "outputs": [],
   "source": [
    "x = np.arange(0, 20, 2)\n",
    "print(x)"
   ]
  },
  {
   "cell_type": "markdown",
   "id": "b6617f4e-52de-4fd5-8f06-2af59ceecc7e",
   "metadata": {},
   "source": [
    "##### **문제 2 : 3행 4열 의 행렬을 생성하고 20 값으로 요소를 모두 채워서 생성**"
   ]
  },
  {
   "cell_type": "code",
   "execution_count": 1,
   "id": "387bdd85-920c-400a-b9df-d6e0c62d6eed",
   "metadata": {},
   "outputs": [
    {
     "ename": "NameError",
     "evalue": "name 'np' is not defined",
     "output_type": "error",
     "traceback": [
      "\u001b[1;31m---------------------------------------------------------------------------\u001b[0m",
      "\u001b[1;31mNameError\u001b[0m                                 Traceback (most recent call last)",
      "Cell \u001b[1;32mIn[1], line 1\u001b[0m\n\u001b[1;32m----> 1\u001b[0m x \u001b[38;5;241m=\u001b[39m \u001b[43mnp\u001b[49m\u001b[38;5;241m.\u001b[39mfull((\u001b[38;5;241m3\u001b[39m,\u001b[38;5;241m4\u001b[39m),\u001b[38;5;241m20\u001b[39m)\n\u001b[0;32m      2\u001b[0m \u001b[38;5;28mprint\u001b[39m(x)\n",
      "\u001b[1;31mNameError\u001b[0m: name 'np' is not defined"
     ]
    }
   ],
   "source": [
    "x = np.full((3,4),20)\n",
    "print(x)"
   ]
  },
  {
   "cell_type": "markdown",
   "id": "f8ff8c73-97f2-4f6e-9784-afb541947f99",
   "metadata": {},
   "source": [
    "##### **문제 3 : (3행 3열) x 4 높이의 3차원 형태로 생성하며, 모든 요소를 1부터 100 사이의 랜덤 값으로 채워서 생성**"
   ]
  },
  {
   "cell_type": "code",
   "execution_count": 5,
   "id": "3d286182-baa8-4254-a463-469e09fce293",
   "metadata": {},
   "outputs": [
    {
     "ename": "NameError",
     "evalue": "name 'np' is not defined",
     "output_type": "error",
     "traceback": [
      "\u001b[1;31m---------------------------------------------------------------------------\u001b[0m",
      "\u001b[1;31mNameError\u001b[0m                                 Traceback (most recent call last)",
      "Cell \u001b[1;32mIn[5], line 1\u001b[0m\n\u001b[1;32m----> 1\u001b[0m x \u001b[38;5;241m=\u001b[39m \u001b[43mnp\u001b[49m\u001b[38;5;241m.\u001b[39mrandom\u001b[38;5;241m.\u001b[39mrandint(\u001b[38;5;241m1\u001b[39m, \u001b[38;5;241m101\u001b[39m, size\u001b[38;5;241m=\u001b[39m(\u001b[38;5;241m3\u001b[39m, \u001b[38;5;241m3\u001b[39m, \u001b[38;5;241m4\u001b[39m))\n\u001b[0;32m      2\u001b[0m \u001b[38;5;28mprint\u001b[39m(x)\n",
      "\u001b[1;31mNameError\u001b[0m: name 'np' is not defined"
     ]
    }
   ],
   "source": [
    "x = np.random.randint(1, 101, size=(3, 3, 4))\n",
    "print(x)"
   ]
  },
  {
   "cell_type": "markdown",
   "id": "d74b7c8e-660e-4792-8a6d-0a3652748a87",
   "metadata": {},
   "source": [
    "-----"
   ]
  },
  {
   "cell_type": "markdown",
   "id": "3ac63b75-1c35-4195-b312-df781be9bf5c",
   "metadata": {},
   "source": [
    "### **과제 2. Numpy 실습 : 인덱싱 및 슬라이싱**"
   ]
  },
  {
   "cell_type": "markdown",
   "id": "978a95ad-0531-4f19-9d8a-8194715261f2",
   "metadata": {},
   "source": [
    "##### **데이터 생성**"
   ]
  },
  {
   "cell_type": "code",
   "execution_count": 54,
   "id": "786e0ca7-08e5-404d-87af-5d2b3942b1f5",
   "metadata": {},
   "outputs": [
    {
     "data": {
      "text/plain": [
       "array([[[ 0,  1,  2,  3,  4],\n",
       "        [ 5,  6,  7,  8,  9],\n",
       "        [10, 11, 12, 13, 14],\n",
       "        [15, 16, 17, 18, 19]],\n",
       "\n",
       "       [[20, 21, 22, 23, 24],\n",
       "        [25, 26, 27, 28, 29],\n",
       "        [30, 31, 32, 33, 34],\n",
       "        [35, 36, 37, 38, 39]],\n",
       "\n",
       "       [[40, 41, 42, 43, 44],\n",
       "        [45, 46, 47, 48, 49],\n",
       "        [50, 51, 52, 53, 54],\n",
       "        [55, 56, 57, 58, 59]]])"
      ]
     },
     "execution_count": 54,
     "metadata": {},
     "output_type": "execute_result"
    }
   ],
   "source": [
    "data_matrix = np.arange(60).reshape(3, 4, 5)\n",
    "data_matrix"
   ]
  },
  {
   "cell_type": "markdown",
   "id": "fe2b4118-d708-4109-8970-5a1a3f427384",
   "metadata": {},
   "source": [
    "##### **문제 1 : data_matrix를 이용하여 인덱싱 및 슬라이싱을 이용하여 동일한 결과가 나오도록 코드 작성**"
   ]
  },
  {
   "cell_type": "code",
   "execution_count": 4,
   "id": "64da849e-9f48-42f9-82f7-84b60d623fee",
   "metadata": {},
   "outputs": [
    {
     "ename": "TypeError",
     "evalue": "tuple indices must be integers or slices, not tuple",
     "output_type": "error",
     "traceback": [
      "\u001b[1;31m---------------------------------------------------------------------------\u001b[0m",
      "\u001b[1;31mTypeError\u001b[0m                                 Traceback (most recent call last)",
      "Cell \u001b[1;32mIn[4], line 1\u001b[0m\n\u001b[1;32m----> 1\u001b[0m \u001b[38;5;28mprint\u001b[39m(\u001b[43mdata_matrix\u001b[49m\u001b[43m[\u001b[49m\u001b[38;5;241;43m1\u001b[39;49m\u001b[43m,\u001b[49m\u001b[38;5;241;43m1\u001b[39;49m\u001b[43m,\u001b[49m\u001b[38;5;241;43m3\u001b[39;49m\u001b[43m]\u001b[49m)\n",
      "\u001b[1;31mTypeError\u001b[0m: tuple indices must be integers or slices, not tuple"
     ]
    }
   ],
   "source": [
    "print(data_matrix[1,1,3])"
   ]
  },
  {
   "cell_type": "markdown",
   "id": "9c295849-d223-4fa0-92cb-fb4d34631bf4",
   "metadata": {},
   "source": [
    "##### **문제 2 : data_matrix를 이용하여 인덱싱 및 슬라이싱을 이용하여 동일한 결과가 나오도록 코드 작성**"
   ]
  },
  {
   "cell_type": "code",
   "execution_count": 6,
   "id": "2bb725ea-505f-4797-b6df-02b503aac846",
   "metadata": {},
   "outputs": [
    {
     "ename": "TypeError",
     "evalue": "tuple indices must be integers or slices, not tuple",
     "output_type": "error",
     "traceback": [
      "\u001b[1;31m---------------------------------------------------------------------------\u001b[0m",
      "\u001b[1;31mTypeError\u001b[0m                                 Traceback (most recent call last)",
      "Cell \u001b[1;32mIn[6], line 1\u001b[0m\n\u001b[1;32m----> 1\u001b[0m \u001b[38;5;28mprint\u001b[39m(\u001b[43mdata_matrix\u001b[49m\u001b[43m[\u001b[49m\u001b[38;5;241;43m0\u001b[39;49m\u001b[43m:\u001b[49m\u001b[38;5;241;43m2\u001b[39;49m\u001b[43m,\u001b[49m\u001b[38;5;241;43m3\u001b[39;49m\u001b[43m,\u001b[49m\u001b[38;5;241;43m1\u001b[39;49m\u001b[43m:\u001b[49m\u001b[38;5;241;43m4\u001b[39;49m\u001b[43m]\u001b[49m)\n",
      "\u001b[1;31mTypeError\u001b[0m: tuple indices must be integers or slices, not tuple"
     ]
    }
   ],
   "source": [
    "print(data_matrix[0:2,3,1:4])"
   ]
  },
  {
   "cell_type": "markdown",
   "id": "72ec53a7-467a-43d3-8c30-63fd60277c3c",
   "metadata": {},
   "source": [
    "##### **문제 3 : data_matrix를 이용하여 인덱싱 및 슬라이싱을 이용하여 동일한 결과가 나오도록 코드 작성**"
   ]
  },
  {
   "cell_type": "code",
   "execution_count": 7,
   "id": "d479e553-4f57-4f61-9006-536c399120e8",
   "metadata": {},
   "outputs": [
    {
     "ename": "TypeError",
     "evalue": "tuple indices must be integers or slices, not tuple",
     "output_type": "error",
     "traceback": [
      "\u001b[1;31m---------------------------------------------------------------------------\u001b[0m",
      "\u001b[1;31mTypeError\u001b[0m                                 Traceback (most recent call last)",
      "Cell \u001b[1;32mIn[7], line 1\u001b[0m\n\u001b[1;32m----> 1\u001b[0m \u001b[38;5;28mprint\u001b[39m(\u001b[43mdata_matrix\u001b[49m\u001b[43m[\u001b[49m\u001b[43m:\u001b[49m\u001b[43m,\u001b[49m\u001b[38;5;241;43m1\u001b[39;49m\u001b[43m:\u001b[49m\u001b[38;5;241;43m4\u001b[39;49m\u001b[43m,\u001b[49m\u001b[43m:\u001b[49m\u001b[43m]\u001b[49m)\n",
      "\u001b[1;31mTypeError\u001b[0m: tuple indices must be integers or slices, not tuple"
     ]
    }
   ],
   "source": [
    "print(data_matrix[:,1:4,:])"
   ]
  },
  {
   "cell_type": "markdown",
   "id": "85656fba-700b-4a16-bb2e-18899ddb21e5",
   "metadata": {},
   "source": [
    "-----"
   ]
  },
  {
   "cell_type": "markdown",
   "id": "62082100-3356-48cd-9666-bf2d76d21091",
   "metadata": {},
   "source": [
    "### **과제 3. Numpy 실습 : 조건에 만족하는 원소 추출**"
   ]
  },
  {
   "cell_type": "markdown",
   "id": "7d316600-e15a-4c42-bac8-d2ed69e312b5",
   "metadata": {},
   "source": [
    "##### **데이터 생성**"
   ]
  },
  {
   "cell_type": "code",
   "execution_count": 93,
   "id": "a7844cc6-7c46-426b-8834-e719191fe098",
   "metadata": {},
   "outputs": [
    {
     "data": {
      "text/plain": [
       "array([286, 985, 326,  77, 420, 835, 702, 683, 852,  59, 548, 128, 884,\n",
       "       600, 179, 558, 347, 948,  29, 943, 822, 547, 978, 913, 404, 146,\n",
       "       268, 399, 846,  36, 265, 804, 274,  10, 859, 652, 702, 405, 127,\n",
       "       254, 742, 645, 251, 270, 252, 130, 705,  57, 488, 816], dtype=int32)"
      ]
     },
     "execution_count": 93,
     "metadata": {},
     "output_type": "execute_result"
    }
   ],
   "source": [
    "data_list = np.random.randint(1, 1000, size=50)\n",
    "data_list"
   ]
  },
  {
   "cell_type": "markdown",
   "id": "517fc73c-5876-44e0-ad0e-f46c152a8fc5",
   "metadata": {},
   "source": [
    "##### **문제 1 : data_list에서 8의 배수만 추출하여 ndarray를 구성하고 이를 출력**"
   ]
  },
  {
   "cell_type": "markdown",
   "id": "9ebf05d6-31fa-41e5-9d32-139500f3dce8",
   "metadata": {},
   "source": [
    "- 랜덤 값이므로 실행 결과와 같지 않아도 되지만, 8의 배수로 구성되어 있어야 정답 처리"
   ]
  },
  {
   "cell_type": "code",
   "execution_count": 8,
   "id": "c3596143-2dca-4468-9d1e-e5fc6e7d678e",
   "metadata": {},
   "outputs": [
    {
     "ename": "NameError",
     "evalue": "name 'array' is not defined",
     "output_type": "error",
     "traceback": [
      "\u001b[1;31m---------------------------------------------------------------------------\u001b[0m",
      "\u001b[1;31mNameError\u001b[0m                                 Traceback (most recent call last)",
      "Cell \u001b[1;32mIn[8], line 1\u001b[0m\n\u001b[1;32m----> 1\u001b[0m x \u001b[38;5;241m=\u001b[39m \u001b[43marray\u001b[49m[array \u001b[38;5;241m%\u001b[39m \u001b[38;5;241m8\u001b[39m \u001b[38;5;241m==\u001b[39m \u001b[38;5;241m0\u001b[39m]\n\u001b[0;32m      2\u001b[0m \u001b[38;5;28mprint\u001b[39m(x)\n",
      "\u001b[1;31mNameError\u001b[0m: name 'array' is not defined"
     ]
    }
   ],
   "source": [
    "x = array[array % 8 == 0]\n",
    "print(x)"
   ]
  },
  {
   "cell_type": "markdown",
   "id": "e7013b57-2d0f-44d2-9b0a-ab6dadf35fc1",
   "metadata": {},
   "source": [
    "##### **문제 2 : data_list에서 500 이상의 값을 추출하여 ndarray를 구성하고 이를 출력**"
   ]
  },
  {
   "cell_type": "markdown",
   "id": "2a81a8fc-5a22-4246-9313-66728d35760e",
   "metadata": {},
   "source": [
    "- 랜덤 값이므로 실행 결과와 같지 않아도 되지만, 500 이상의 값으로 구성되어 있어야 정답 처리"
   ]
  },
  {
   "cell_type": "code",
   "execution_count": 9,
   "id": "af92d590-3fcd-4b05-b533-5d16a7619016",
   "metadata": {},
   "outputs": [
    {
     "ename": "NameError",
     "evalue": "name 'array' is not defined",
     "output_type": "error",
     "traceback": [
      "\u001b[1;31m---------------------------------------------------------------------------\u001b[0m",
      "\u001b[1;31mNameError\u001b[0m                                 Traceback (most recent call last)",
      "Cell \u001b[1;32mIn[9], line 1\u001b[0m\n\u001b[1;32m----> 1\u001b[0m x \u001b[38;5;241m=\u001b[39m \u001b[43marray\u001b[49m[array \u001b[38;5;241m>\u001b[39m\u001b[38;5;241m=\u001b[39m \u001b[38;5;241m500\u001b[39m]\n\u001b[0;32m      2\u001b[0m \u001b[38;5;28mprint\u001b[39m(x)\n",
      "\u001b[1;31mNameError\u001b[0m: name 'array' is not defined"
     ]
    }
   ],
   "source": [
    "x = data_list[data_list >= 500]\n",
    "print(x)"
   ]
  },
  {
   "cell_type": "markdown",
   "id": "804ec228-1879-46c7-a2e5-82d2af35635a",
   "metadata": {},
   "source": [
    "-----"
   ]
  },
  {
   "cell_type": "markdown",
   "id": "9f30f5d0-93cc-4afb-9e75-f55d2fbf72a3",
   "metadata": {},
   "source": [
    "### **과제 4. Pandas 실습 : 시리즈**"
   ]
  },
  {
   "cell_type": "markdown",
   "id": "2ef71854-276f-4aeb-912d-43b36c18f1e9",
   "metadata": {},
   "source": [
    "##### **문제 1 : 실행 결과와 동일한 시리즈를 생성**"
   ]
  },
  {
   "cell_type": "code",
   "execution_count": 11,
   "id": "6213a8f8-9c55-45b8-b4e6-b36055fbc1d3",
   "metadata": {},
   "outputs": [
    {
     "ename": "SyntaxError",
     "evalue": "invalid syntax. Maybe you meant '==' or ':=' instead of '='? (2511563872.py, line 4)",
     "output_type": "error",
     "traceback": [
      "\u001b[1;36m  Cell \u001b[1;32mIn[11], line 4\u001b[1;36m\u001b[0m\n\u001b[1;33m    series_data=(series1, series2=series2)\u001b[0m\n\u001b[1;37m                          ^\u001b[0m\n\u001b[1;31mSyntaxError\u001b[0m\u001b[1;31m:\u001b[0m invalid syntax. Maybe you meant '==' or ':=' instead of '='?\n"
     ]
    }
   ],
   "source": [
    "# 정답 작성\n",
    "series1 = [10,20,30,40,50,60,70,80]\n",
    "series2 = [\"ㄱ\",\"ㄴ\",\"ㄷ\",\"ㄹ\",\"ㅁ\",\"ㅂ\",\"ㅅ\",\"ㅇ\"]\n",
    "series_data=(series1, series2=series2)\n",
    "# 출력\n",
    "series_data"
   ]
  },
  {
   "cell_type": "markdown",
   "id": "f3ece082-d660-4e4f-a683-5eb4ab04d984",
   "metadata": {},
   "source": [
    "##### **문제 2 : 문제 1에서 생성한 series_data를 인덱스를 이용하여 값을 변경하여 결과와 같이 출력**"
   ]
  },
  {
   "cell_type": "code",
   "execution_count": 23,
   "id": "d805d42e-7a4c-49bf-859e-d3ef83a3b751",
   "metadata": {},
   "outputs": [
    {
     "data": {
      "text/plain": [
       "ㄱ    10\n",
       "ㄴ    20\n",
       "ㄷ    30\n",
       "ㄹ    40\n",
       "ㅁ    50\n",
       "ㅂ    60\n",
       "ㅅ    70\n",
       "ㅇ    80\n",
       "dtype: int64"
      ]
     },
     "execution_count": 23,
     "metadata": {},
     "output_type": "execute_result"
    }
   ],
   "source": [
    "# 정답 작성\n",
    "series_data=pd.Series([10,20,30,40,50,60,70,80], [\"ㄱ\",\"ㄴ\",\"ㄷ\",\"ㄹ\",\"ㅁ\",\"ㅂ\",\"ㅅ\",\"ㅇ\"])\n",
    "# 출력\n",
    "series_data"
   ]
  },
  {
   "cell_type": "markdown",
   "id": "b043a44e-4d04-4073-a213-680ee595e041",
   "metadata": {},
   "source": [
    "-----"
   ]
  },
  {
   "cell_type": "markdown",
   "id": "3b6f49ac-f75d-41f0-b812-b4ea77402c7f",
   "metadata": {},
   "source": [
    "### **과제 5. Pandas 실습 : 데이터프레임**"
   ]
  },
  {
   "cell_type": "markdown",
   "id": "31945bc6-88fb-41b3-8330-d92d834fa3db",
   "metadata": {},
   "source": [
    "##### **문제 1 : dictionary와 pandas dataframe을 이용하여 실행 결과와 동일한 데이터 프레임을 생성**"
   ]
  },
  {
   "cell_type": "markdown",
   "id": "b8747ce7-f3f7-4936-8c45-bfb043192589",
   "metadata": {},
   "source": [
    "- 띄어쓰기, 철자 등은 평가 대상이 아님.\n",
    "- 인덱스, 3개의 컬럼, row의 개수가 동일해야 함."
   ]
  },
  {
   "cell_type": "code",
   "execution_count": 25,
   "id": "effda851-2801-41ae-bf98-9115827bb237",
   "metadata": {},
   "outputs": [
    {
     "data": {
      "text/html": [
       "<div>\n",
       "<style scoped>\n",
       "    .dataframe tbody tr th:only-of-type {\n",
       "        vertical-align: middle;\n",
       "    }\n",
       "\n",
       "    .dataframe tbody tr th {\n",
       "        vertical-align: top;\n",
       "    }\n",
       "\n",
       "    .dataframe thead th {\n",
       "        text-align: right;\n",
       "    }\n",
       "</style>\n",
       "<table border=\"1\" class=\"dataframe\">\n",
       "  <thead>\n",
       "    <tr style=\"text-align: right;\">\n",
       "      <th></th>\n",
       "      <th>name</th>\n",
       "      <th>age</th>\n",
       "      <th>hobby</th>\n",
       "    </tr>\n",
       "  </thead>\n",
       "  <tbody>\n",
       "    <tr>\n",
       "      <th>ㄱ</th>\n",
       "      <td>유승호</td>\n",
       "      <td>27</td>\n",
       "      <td>청소기로 청소하기</td>\n",
       "    </tr>\n",
       "    <tr>\n",
       "      <th>ㄴ</th>\n",
       "      <td>유태근</td>\n",
       "      <td>33</td>\n",
       "      <td>돌돌이로 청소하기</td>\n",
       "    </tr>\n",
       "    <tr>\n",
       "      <th>ㄷ</th>\n",
       "      <td>봉하림</td>\n",
       "      <td>33</td>\n",
       "      <td>빗자루로 청소하기</td>\n",
       "    </tr>\n",
       "    <tr>\n",
       "      <th>ㄹ</th>\n",
       "      <td>흰둥이</td>\n",
       "      <td>1</td>\n",
       "      <td>바닥 돌아댕기기</td>\n",
       "    </tr>\n",
       "    <tr>\n",
       "      <th>ㅁ</th>\n",
       "      <td>윤별</td>\n",
       "      <td>22</td>\n",
       "      <td>기둥 역할하기</td>\n",
       "    </tr>\n",
       "    <tr>\n",
       "      <th>ㅂ</th>\n",
       "      <td>탄지로</td>\n",
       "      <td>17</td>\n",
       "      <td>해의 호흡 사용하기</td>\n",
       "    </tr>\n",
       "    <tr>\n",
       "      <th>ㅅ</th>\n",
       "      <td>을지로</td>\n",
       "      <td>0</td>\n",
       "      <td>힙하기</td>\n",
       "    </tr>\n",
       "    <tr>\n",
       "      <th>ㅇ</th>\n",
       "      <td>이타치</td>\n",
       "      <td>23</td>\n",
       "      <td>만화경사륜안</td>\n",
       "    </tr>\n",
       "  </tbody>\n",
       "</table>\n",
       "</div>"
      ],
      "text/plain": [
       "  name  age       hobby\n",
       "ㄱ  유승호   27   청소기로 청소하기\n",
       "ㄴ  유태근   33   돌돌이로 청소하기\n",
       "ㄷ  봉하림   33   빗자루로 청소하기\n",
       "ㄹ  흰둥이    1    바닥 돌아댕기기\n",
       "ㅁ   윤별   22     기둥 역할하기\n",
       "ㅂ  탄지로   17  해의 호흡 사용하기\n",
       "ㅅ  을지로    0         힙하기\n",
       "ㅇ  이타치   23      만화경사륜안"
      ]
     },
     "execution_count": 25,
     "metadata": {},
     "output_type": "execute_result"
    }
   ],
   "source": [
    "# dictionary와 list를 이용하여 데이터 생성\n",
    "data = {\n",
    "    'name': ['유승호','유태근','봉하림','흰둥이','윤별','탄지로','을지로','이타치'],\n",
    "    'age' : [27,33,33,1,22,17,0,23],\n",
    "    'hobby' : ['청소기로 청소하기','돌돌이로 청소하기','빗자루로 청소하기','바닥 돌아댕기기','기둥 역할하기','해의 호흡 사용하기','힙하기',\n",
    "                  '만화경사륜안']\n",
    "}   \n",
    "\n",
    "# human_df 데이터프레임 생성\n",
    "human_df = pd.DataFrame(data,index=['ㄱ','ㄴ','ㄷ','ㄹ','ㅁ','ㅂ','ㅅ','ㅇ'])\n",
    "\n",
    "# 출력\n",
    "human_df"
   ]
  },
  {
   "cell_type": "code",
   "execution_count": 92,
   "id": "cef2163a-87d0-4c62-b393-529e2ab8b216",
   "metadata": {},
   "outputs": [
    {
     "data": {
      "text/html": [
       "<div>\n",
       "<style scoped>\n",
       "    .dataframe tbody tr th:only-of-type {\n",
       "        vertical-align: middle;\n",
       "    }\n",
       "\n",
       "    .dataframe tbody tr th {\n",
       "        vertical-align: top;\n",
       "    }\n",
       "\n",
       "    .dataframe thead th {\n",
       "        text-align: right;\n",
       "    }\n",
       "</style>\n",
       "<table border=\"1\" class=\"dataframe\">\n",
       "  <thead>\n",
       "    <tr style=\"text-align: right;\">\n",
       "      <th></th>\n",
       "      <th>name</th>\n",
       "      <th>age</th>\n",
       "      <th>hobby</th>\n",
       "    </tr>\n",
       "  </thead>\n",
       "  <tbody>\n",
       "    <tr>\n",
       "      <th>ㄹ</th>\n",
       "      <td>탄지로</td>\n",
       "      <td>33</td>\n",
       "      <td>해의 호흡 사용하기</td>\n",
       "    </tr>\n",
       "    <tr>\n",
       "      <th>ㄴ</th>\n",
       "      <td>흰둥이</td>\n",
       "      <td>3</td>\n",
       "      <td>먹이 먹기</td>\n",
       "    </tr>\n",
       "  </tbody>\n",
       "</table>\n",
       "</div>"
      ],
      "text/plain": [
       "  name  age       hobby\n",
       "ㄹ  탄지로   33  해의 호흡 사용하기\n",
       "ㄴ  흰둥이    3       먹이 먹기"
      ]
     },
     "execution_count": 92,
     "metadata": {},
     "output_type": "execute_result"
    }
   ],
   "source": []
  },
  {
   "cell_type": "markdown",
   "id": "9418e897-36d0-437e-869e-e270224cf5a0",
   "metadata": {},
   "source": [
    "##### **문제 2 : human_df에서 '탄지로'와 '흰둥이'에 해당하는 row를 인덱스를 이용하여 출력**"
   ]
  },
  {
   "cell_type": "markdown",
   "id": "76168c08-4cc8-483c-89eb-8e856d47d137",
   "metadata": {},
   "source": [
    "selected_rows = human_df.loc[['ㄹ','ㄴ']]\n",
    "selected_rows"
   ]
  }
 ],
 "metadata": {
  "kernelspec": {
   "display_name": "Python 3 (ipykernel)",
   "language": "python",
   "name": "python3"
  },
  "language_info": {
   "codemirror_mode": {
    "name": "ipython",
    "version": 3
   },
   "file_extension": ".py",
   "mimetype": "text/x-python",
   "name": "python",
   "nbconvert_exporter": "python",
   "pygments_lexer": "ipython3",
   "version": "3.11.4"
  }
 },
 "nbformat": 4,
 "nbformat_minor": 5
}
